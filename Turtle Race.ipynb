{
 "cells": [
  {
   "cell_type": "code",
   "execution_count": 1,
   "id": "5d8c006f-f091-4a3e-a522-c7d164ae88ac",
   "metadata": {},
   "outputs": [],
   "source": [
    "import time\n",
    "import turtle\n",
    "import random"
   ]
  },
  {
   "cell_type": "code",
   "execution_count": 2,
   "id": "980a6298-0c4f-4337-a6ca-d7b5267ecbe4",
   "metadata": {},
   "outputs": [],
   "source": [
    "WIDTH, HEIGHT = 600, 500\n",
    "screen = turtle.Screen()\n",
    "screen.setup(WIDTH,HEIGHT)\n",
    "screen.title(\"Turtle Race\")\n",
    "\n",
    "colours = ['red', 'green', 'orange', 'blue', 'pink', 'black', 'brown', 'yellow', 'purple', 'cyan']"
   ]
  },
  {
   "cell_type": "code",
   "execution_count": 3,
   "id": "fb2239c9-8d0b-4e48-88c2-5a6fbc39646c",
   "metadata": {},
   "outputs": [],
   "source": [
    "def race(colors):\n",
    "    turtles = create(colors)\n",
    "    time.sleep(2)\n",
    "    while True:\n",
    "        for racer in turtles:\n",
    "            d = random.randrange(1,20)\n",
    "            racer.forward(d)\n",
    "            x,y = racer.pos()\n",
    "            if( y > HEIGHT//2 - 10):\n",
    "                return colors[turtles.index(racer)]\n",
    "                # while loop stops running as soon as return statement is invoked\n",
    "                \n",
    "    \n",
    "    "
   ]
  },
  {
   "cell_type": "code",
   "execution_count": 4,
   "id": "48a27d18-9e0a-496e-b495-8766e7c19a4b",
   "metadata": {},
   "outputs": [],
   "source": [
    "def create(colors):\n",
    "    turtles = []\n",
    "    spacingx = WIDTH // (len(colors) + 1)\n",
    "    for i, color in enumerate(colors): #enumerate gives position and value. Position is stored in i and value is stored in color\n",
    "        racer = turtle.Turtle()\n",
    "        turtle.clear()\n",
    "        racer.penup()\n",
    "        racer.color(color)\n",
    "        racer.shape('turtle')\n",
    "        racer.left(90)\n",
    "        racer.setpos(-WIDTH//2 + (i+1)*spacingx, -HEIGHT//2 + 20)\n",
    "        turtles.append(racer)\n",
    "    time.sleep(2)\n",
    "    return turtles\n",
    "    "
   ]
  },
  {
   "cell_type": "code",
   "execution_count": 5,
   "id": "0c95d389-4342-4c79-b2e7-698b96691d0f",
   "metadata": {},
   "outputs": [],
   "source": [
    "def init_turtle():\n",
    "    screen = turtle.Screen()\n",
    "    screen.setup(WIDTH,HEIGHT)\n",
    "    screen.title(\"Turtle Race\")"
   ]
  },
  {
   "cell_type": "code",
   "execution_count": null,
   "id": "947754ea-f1da-4392-a501-44ff114bb41a",
   "metadata": {},
   "outputs": [
    {
     "name": "stdin",
     "output_type": "stream",
     "text": [
      "Enter number of turtles you wanna race (2-10) \n",
      "Enter 0 if you want to exit \n",
      "You have entered:  8\n"
     ]
    }
   ],
   "source": [
    "t = 0\n",
    "def get_turtle():\n",
    "    while True:\n",
    "        t = int(input(\"Enter number of turtles you wanna race (2-10) \\nEnter 0 if you want to exit \\nYou have entered: \"))\n",
    "        if (t>0):\n",
    "            if(t == 1):\n",
    "                print(\"Value cannot be one \\n\")\n",
    "                continue\n",
    "            elif(t < 11):\n",
    "                t = int(t)\n",
    "                break\n",
    "            else:\n",
    "                print(\"Enter correct numeric value \\n\")\n",
    "                continue\n",
    "        elif(t == 0):\n",
    "            print(\"exit\")\n",
    "            break\n",
    "        else:\n",
    "            print(\"Enter a number between 2 to 10 \\n\")\n",
    "    return t\n",
    "racers = get_turtle()       \n",
    "init_turtle()\n",
    "\n",
    "random.shuffle(colours)\n",
    "colors = colours[:racers]\n",
    "\n",
    "winner = race(colors)\n",
    "print(winner+ \" is the winner\")\n",
    "time.sleep(5)\n"
   ]
  },
  {
   "cell_type": "code",
   "execution_count": null,
   "id": "522ed11b-0f43-449f-9838-99593e685188",
   "metadata": {},
   "outputs": [],
   "source": [
    "\n",
    "\n"
   ]
  },
  {
   "cell_type": "code",
   "execution_count": null,
   "id": "4a4ac2f8-5977-413c-955e-04ef6f0ea8ae",
   "metadata": {},
   "outputs": [],
   "source": []
  },
  {
   "cell_type": "code",
   "execution_count": null,
   "id": "33c4e5a3-30a1-4c0c-8bbf-357f2f269721",
   "metadata": {},
   "outputs": [],
   "source": []
  },
  {
   "cell_type": "code",
   "execution_count": null,
   "id": "9f856bb2-d6b0-4b07-a6a2-a1a354c929f8",
   "metadata": {},
   "outputs": [],
   "source": []
  },
  {
   "cell_type": "code",
   "execution_count": null,
   "id": "0bd2a567-aad3-42c3-b4f0-90ab59f2e881",
   "metadata": {},
   "outputs": [],
   "source": []
  }
 ],
 "metadata": {
  "kernelspec": {
   "display_name": "Python 3 (ipykernel)",
   "language": "python",
   "name": "python3"
  },
  "language_info": {
   "codemirror_mode": {
    "name": "ipython",
    "version": 3
   },
   "file_extension": ".py",
   "mimetype": "text/x-python",
   "name": "python",
   "nbconvert_exporter": "python",
   "pygments_lexer": "ipython3",
   "version": "3.11.9"
  }
 },
 "nbformat": 4,
 "nbformat_minor": 5
}
